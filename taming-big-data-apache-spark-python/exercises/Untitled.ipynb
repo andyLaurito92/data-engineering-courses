{
 "cells": [
  {
   "cell_type": "code",
   "execution_count": null,
   "id": "4dfcb8cf-285f-414d-b078-cde55e676127",
   "metadata": {
    "collapsed": false
   },
   "outputs": [],
   "source": []
  }
 ],
 "metadata": {
  "kernelspec": {
   "argv": [
    "python",
    "-m",
    "ipykernel_launcher",
    "-f",
    "{connection_file}"
   ],
   "display_name": "Python 3 (ipykernel)",
   "env": null,
   "interrupt_mode": "signal",
   "language": "python",
   "metadata": {
    "debugger": true
   },
   "name": "python3"
  },
  "name": "Untitled.ipynb"
 },
 "nbformat": 4,
 "nbformat_minor": 5
}
